{
 "cells": [
  {
   "cell_type": "code",
   "execution_count": 3,
   "metadata": {},
   "outputs": [],
   "source": [
    "import os\n",
    "from flask import Flask, session, render_template, jsonify\n",
    "from sqlalchemy import create_engine\n",
    "from sqlalchemy.engine import reflection\n",
    "import numpy as np\n",
    "from sqlalchemy.orm import scoped_session, sessionmaker\n",
    "from sklearn.linear_model import LinearRegression\n",
    "import datetime\n",
    "import pandas as pd"
   ]
  },
  {
   "cell_type": "code",
   "execution_count": null,
   "metadata": {},
   "outputs": [],
   "source": [
    "database_url = \n",
    "\n",
    "# Set up database\n",
    "engine = create_engine(os.getenv(database_url))\n",
    "db = scoped_session(sessionmaker(bind=engine))\n",
    "insp = reflection.Inspector.from_engine(engine)\n",
    "print(insp.get_table_names())\n"
   ]
  }
 ],
 "metadata": {
  "kernelspec": {
   "display_name": "Python 3",
   "language": "python",
   "name": "python3"
  },
  "language_info": {
   "codemirror_mode": {
    "name": "ipython",
    "version": 3
   },
   "file_extension": ".py",
   "mimetype": "text/x-python",
   "name": "python",
   "nbconvert_exporter": "python",
   "pygments_lexer": "ipython3",
   "version": "3.7.4"
  }
 },
 "nbformat": 4,
 "nbformat_minor": 2
}
